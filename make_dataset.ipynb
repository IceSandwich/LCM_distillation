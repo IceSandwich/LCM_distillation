{
 "cells": [
  {
   "cell_type": "code",
   "execution_count": 1,
   "metadata": {},
   "outputs": [],
   "source": [
    "import json\n",
    "import os\n",
    "from PIL import Image\n",
    "from datasets import load_dataset"
   ]
  },
  {
   "cell_type": "code",
   "execution_count": 2,
   "metadata": {},
   "outputs": [
    {
     "name": "stdout",
     "output_type": "stream",
     "text": [
      "completed. wrote jsonl file to dataset\\metadata.jsonl\n"
     ]
    }
   ],
   "source": [
    "folder = \"dataset\"\n",
    "\n",
    "output_jsonl = []\n",
    "jsonl_filename = os.path.join(folder, \"metadata.jsonl\")\n",
    "\n",
    "for filename in [ x for x in os.listdir(folder) if not x.endswith(\".jsonl\") ]:\n",
    "\timage = Image.open(os.path.join(folder, filename))\n",
    "\tparameters = image.info[\"parameters\"].split(\"\\n\")\n",
    "\tprompt  = parameters[0]\n",
    "\timage.close()\n",
    "\n",
    "\toutput_jsonl.append({\n",
    "\t\t\"file_name\": filename,\n",
    "\t\t\"text\": prompt\n",
    "\t})\n",
    "\n",
    "with open(jsonl_filename, 'w', encoding='utf-8' ) as f:\n",
    "\tfor line in output_jsonl:\n",
    "\t\tf.write(json.dumps(line) + \"\\n\")\n",
    "print(f\"completed. wrote jsonl file to {jsonl_filename}\")"
   ]
  },
  {
   "cell_type": "code",
   "execution_count": 3,
   "metadata": {},
   "outputs": [
    {
     "data": {
      "application/vnd.jupyter.widget-view+json": {
       "model_id": "e06d8b7b336141dea326d893ea0768a3",
       "version_major": 2,
       "version_minor": 0
      },
      "text/plain": [
       "Generating train split: 0 examples [00:00, ? examples/s]"
      ]
     },
     "metadata": {},
     "output_type": "display_data"
    }
   ],
   "source": [
    "data_files = {}\n",
    "data_files[\"train\"] = os.path.join(\"dataset\", \"**\")\n",
    "dataset = load_dataset(\n",
    "\t\"imagefolder\",\n",
    "\tdata_files=data_files,\n",
    ")"
   ]
  },
  {
   "cell_type": "code",
   "execution_count": 4,
   "metadata": {},
   "outputs": [
    {
     "data": {
      "text/plain": [
       "DatasetDict({\n",
       "    train: Dataset({\n",
       "        features: ['image', 'text'],\n",
       "        num_rows: 2\n",
       "    })\n",
       "})"
      ]
     },
     "execution_count": 4,
     "metadata": {},
     "output_type": "execute_result"
    }
   ],
   "source": [
    "dataset"
   ]
  },
  {
   "cell_type": "code",
   "execution_count": null,
   "metadata": {},
   "outputs": [],
   "source": []
  }
 ],
 "metadata": {
  "kernelspec": {
   "display_name": "venv_gpu",
   "language": "python",
   "name": "python3"
  },
  "language_info": {
   "codemirror_mode": {
    "name": "ipython",
    "version": 3
   },
   "file_extension": ".py",
   "mimetype": "text/x-python",
   "name": "python",
   "nbconvert_exporter": "python",
   "pygments_lexer": "ipython3",
   "version": "3.10.13"
  }
 },
 "nbformat": 4,
 "nbformat_minor": 2
}
